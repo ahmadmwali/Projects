{
 "cells": [
  {
   "cell_type": "markdown",
   "metadata": {},
   "source": [
    "# Work"
   ]
  },
  {
   "cell_type": "code",
   "execution_count": 1,
   "metadata": {},
   "outputs": [],
   "source": [
    "#Import modules and libraries\n",
    "import os\n",
    "import sys\n",
    "import glob\n",
    "import time\n",
    "import datetime\n",
    "\n",
    "import cv2\n",
    "import numpy as np\n",
    "import pandas as pd\n",
    "from matplotlib import pyplot as plt\n",
    "from sklearn.metrics import classification_report\n",
    "\n",
    "from keras.metrics import AUC\n",
    "from keras.preprocessing.image import ImageDataGenerator\n",
    "\n",
    "from keras.models import Sequential\n",
    "from keras.callbacks import EarlyStopping, ReduceLROnPlateau\n",
    "from keras.layers import Dense, Conv2D, Flatten, MaxPooling2D, Dropout"
   ]
  },
  {
   "cell_type": "code",
   "execution_count": 2,
   "metadata": {},
   "outputs": [],
   "source": [
    "def load_data(image_paths, split, label_path=None, scale='none'):\n",
    "    '''\n",
    "    Read a set from a path.\n",
    "    \n",
    "    This function returns a batch of images and sometimes labels from a list of filepaths \n",
    "    containing said images. The function also scales the dataset by a specified factor.\n",
    "\n",
    "    Parameters\n",
    "    ----------\n",
    "    image_paths : list of str\n",
    "        List of directories containing the images.\n",
    "    split : str\n",
    "        Type of set to be loaded. One of either 'train', 'val,' or 'test.'\n",
    "    label_path : str, default None\n",
    "        Path to csv file containing image labels. Set to None if split == 'test.'\n",
    "    scale: str, default 'none'\n",
    "        Factor to scale the dataset with. Should be one of 'none,' 'minmax,' 'standard,'\n",
    "        'normalized,' or 'var_coeff.'\n",
    "\n",
    "    Returns\n",
    "    -------\n",
    "    tuple of (numpy.ndarray, numpy.ndarray) or numpy.ndarray\n",
    "        Arrays of images of loaded images (and labels) loaded.\n",
    "    '''\n",
    "    #For training images\n",
    "    if split == 'train':\n",
    "\n",
    "        #Create an empty list for images\n",
    "        images = []\n",
    "        #Read labels from csv file path as a numpy array\n",
    "        labels = pd.read_csv(label_path, index_col='id').to_numpy()\n",
    "        \n",
    "        #Read image all images in path as grayscale and append to list\n",
    "        for path in image_paths:\n",
    "            image = cv2.imread(path, 0)\n",
    "            images.append(image)\n",
    "\n",
    "        #If a directory to store augmented images exists in folder\n",
    "        if os.path.isdir(os.path.join(os.getcwd(),'Aug_Images')):\n",
    "            for path in glob.glob((os.path.join(os.getcwd(),'Aug_Images', '*'))): \n",
    "                os.remove(path) #remove all images in directory\n",
    "\n",
    "        else:\n",
    "            #Create a directory for augmented images\n",
    "            os.mkdir('Aug_Images') \n",
    "\n",
    "        #Instantiate an ImageDataGenerator object for data augmentation   \n",
    "        augmentor = ImageDataGenerator(horizontal_flip=True, vertical_flip=False, rotation_range=15, width_shift_range=0.2, \n",
    "            height_shift_range=0.2, brightness_range=[0.1, 1.0], shear_range=0.2)\n",
    "        X = np.array(images) # convert the images temporarily to an array\n",
    "        \n",
    "        #Generate augmented images and labels and save images to Aug_Images\n",
    "        for X_batch, y_batch in augmentor.flow(X.reshape(X.shape[0],64,64,1), labels, batch_size=3000, save_to_dir='Aug_Images', save_format='png'):\n",
    "            break \n",
    "        labels = np.append(labels, y_batch, axis=0) #append augmented labels to the original labels\n",
    "\n",
    "        #Read all images from Aug_Images and add to the original image list\n",
    "        aug_path = glob.glob((os.path.join(os.getcwd(),'Aug_Images', '*.png')))\n",
    "        for path in aug_path:\n",
    "            image = cv2.imread(path, 0)\n",
    "            images.append(image)\n",
    "\n",
    "        #Convert image_list to an array\n",
    "        features = np.array(images)\n",
    "        assert len(features) == len(labels), f'Number of images and labels do not match. Found {len(features)},images and {len(labels)}, labels.'\n",
    "        print(f'Found {len(image_paths)} training images and {len(aug_path)} augmented images')\n",
    "\n",
    "    #For validation images\n",
    "    elif split == 'val':\n",
    "\n",
    "        #Create an empty list for images\n",
    "        images = []\n",
    "        #Read labels from csv file path as a numpy array\n",
    "        labels = pd.read_csv(label_path, index_col='id').to_numpy()\n",
    "\n",
    "        #Read image all images in path as grayscale and append to list\n",
    "        for path in image_paths:\n",
    "            image = cv2.imread(path, 0)\n",
    "            images.append(image)\n",
    "        \n",
    "        #Convert image_list to an array\n",
    "        features = np.array(images)\n",
    "        assert len(features) == len(labels), f'Number of images and labels do not match. Found {len(features)},images and {len(labels)}, labels.'\n",
    "        print(f'Found {len(image_paths)} validation images.')\n",
    "\n",
    "    #For test images\n",
    "    elif split == 'test':\n",
    "\n",
    "        #Create an empty list for images\n",
    "        images = []\n",
    "\n",
    "        #Read image all images in path as grayscale and append to list\n",
    "        for path in image_paths:\n",
    "            image = cv2.imread(path, 0)\n",
    "            images.append(image)\n",
    "        \n",
    "        #Convert image_list to an array\n",
    "        features = np.array(images)\n",
    "        print(f'Found {len(image_paths)} test images.')\n",
    "    \n",
    "    #For an invalid imput for split\n",
    "    else:\n",
    "        raise ValueError(\"Value for split has to be either of \\'train\\', 'val\\', or \\'test\\'.\")\n",
    "\n",
    "    if scale == 'none': \n",
    "        #Use unscaled images as features\n",
    "        features_norm = features\n",
    "\n",
    "    elif scale == 'minmax':\n",
    "        #Use a minmax-type scaler on the features\n",
    "        features_norm = (features)/255.\n",
    "\n",
    "    elif scale == 'normalized':\n",
    "        #Scale all features to have values between -0.5 and 0.5\n",
    "        features_norm = (features)/255. - 0.5\n",
    "\n",
    "    elif scale == 'standard':\n",
    "        features_norm = (features - features.mean())/features.std()\n",
    "\n",
    "    elif scale == 'var_coeff':\n",
    "        #Use a standard-type scaler on the features\n",
    "        features_norm = (features)*features.mean()/features.std()\n",
    "\n",
    "    #For an invalid imput for scale\n",
    "    else:\n",
    "        raise ValueError('Invalid scale value used. Values have to be one of either \\'none\\', \\'minmax\\',\\'normalized\\', or \\'var_coeff\\'.')\n",
    "\n",
    "    #For train and val splits return features with labels \n",
    "    if split != 'test':\n",
    "        return features_norm, labels\n",
    "\n",
    "    #For test split return only features\n",
    "    else:\n",
    "        return features_norm"
   ]
  },
  {
   "cell_type": "code",
   "execution_count": 4,
   "metadata": {},
   "outputs": [],
   "source": [
    "def build_model():\n",
    "    '''\n",
    "    Create a model as a list of layers.\n",
    "    \n",
    "    This function returns sequential VGG-type model as a list of stacked layers.\n",
    "\n",
    "    Returns\n",
    "    -------\n",
    "    keras.engine.sequential.Sequential\n",
    "        A sequential model.\n",
    "    '''\n",
    "    initializer = 'he_uniform'\n",
    "    model = Sequential()\n",
    "    \n",
    "    model.add(Conv2D(32,kernel_size=5, padding='same', activation='relu', input_shape=(64, 64, 1), kernel_initializer=initializer))\n",
    "    model.add(MaxPooling2D((4,4), strides=2, padding='same'))\n",
    "    model.add(Dropout(rate=0.25))\n",
    "    \n",
    "    model.add(Conv2D(64, kernel_size=5, padding='same', activation='relu', kernel_initializer=initializer))\n",
    "    model.add(MaxPooling2D((4,4), strides=2, padding='same'))\n",
    "    model.add(Dropout(rate=0.25))\n",
    "        \n",
    "    model.add(Conv2D(128, kernel_size=5, padding='same', activation='relu', kernel_initializer=initializer))   \n",
    "    model.add(MaxPooling2D((4,4), strides=2, padding='same'))\n",
    "    model.add(Dropout(rate=0.25))\n",
    "\n",
    "    model.add(Conv2D(256, kernel_size=5, padding='same', activation='relu', kernel_initializer=initializer))    \n",
    "    model.add(MaxPooling2D((4,4), strides=2, padding='same'))   \n",
    "    model.add(Dropout(rate=0.25))\n",
    "\n",
    "    model.add(Conv2D(512, kernel_size=5, padding='same', activation='relu', kernel_initializer=initializer))    \n",
    "    model.add(MaxPooling2D((4,4), strides=2, padding='same'))   \n",
    "    model.add(Dropout(rate=0.25))\n",
    "\n",
    "    model.add(Flatten())    \n",
    "    model.add(Dense(1024, activation='relu'))    \n",
    "    model.add(Dropout(rate=0.5))    \n",
    "    model.add(Dense(3, activation='sigmoid'))\n",
    "\n",
    "    return model\n"
   ]
  },
  {
   "cell_type": "code",
   "execution_count": 5,
   "metadata": {},
   "outputs": [],
   "source": [
    "def build_model_2():\n",
    "    '''\n",
    "    Create a model as a list of layers.\n",
    "    \n",
    "    This function returns a sequential VGG-type model as a list of stacked layers.\n",
    "\n",
    "    Returns\n",
    "    -------\n",
    "    keras.engine.sequential.Sequential\n",
    "        A sequential model.\n",
    "    '''\n",
    "    initializer = 'he_uniform'\n",
    "    model = Sequential()\n",
    "\n",
    "    model.add(Conv2D(32, kernel_size=(5,1), activation='relu', padding='same', input_shape=(64, 64, 1), kernel_initializer=initializer))\n",
    "    model.add(Conv2D(32, kernel_size=(1,5), activation='relu', padding='same', kernel_initializer=initializer))\n",
    "    model.add(MaxPooling2D((3,3), strides=2, padding='same'))\n",
    "\n",
    "    model.add(Conv2D(64, kernel_size=(5,1), activation='relu', padding='same', kernel_initializer=initializer))\n",
    "    model.add(Conv2D(64, kernel_size=(1,5), activation='relu', padding='same', kernel_initializer=initializer))\n",
    "    model.add(MaxPooling2D((3,3), strides=2, padding='same')) \n",
    "    model.add(Dropout(rate=0.25))\n",
    "\n",
    "    model.add(Conv2D(128, kernel_size=(5,1), activation='relu', padding='same', kernel_initializer=initializer))\n",
    "    model.add(Conv2D(128, kernel_size=(1,5), activation='relu', padding='same', kernel_initializer=initializer))\n",
    "    model.add(MaxPooling2D((3,3), strides=2, padding='same')) \n",
    "    model.add(Dropout(rate=0.25))\n",
    "\n",
    "    model.add(Conv2D(256, kernel_size=(5,1), activation='relu', padding='same', kernel_initializer=initializer))\n",
    "    model.add(Conv2D(256, kernel_size=(1,5), activation='relu', padding='same', kernel_initializer=initializer))\n",
    "    model.add(MaxPooling2D((3,3), strides=2, padding='same')) \n",
    "    model.add(Dropout(rate=0.25))\n",
    "\n",
    "    model.add(Flatten())    \n",
    "    model.add(Dense(512, activation='relu'))   \n",
    "    model.add(Dropout(rate=0.5))    \n",
    "    model.add(Dense(3, activation='sigmoid'))\n",
    "\n",
    "    return model\n"
   ]
  },
  {
   "cell_type": "code",
   "execution_count": 5,
   "metadata": {},
   "outputs": [],
   "source": [
    "def save_weights(model, filename):\n",
    "    model.save_weights(os.path.join('Models', filename))\n",
    "\n",
    "def load_weights(filepath):\n",
    "    model = build_model()\n",
    "    return model.load_weights(filepath)"
   ]
  },
  {
   "cell_type": "code",
   "execution_count": 6,
   "metadata": {},
   "outputs": [],
   "source": [
    "def test_preds(model, data, threshold):\n",
    "    '''\n",
    "    Make predictions from a model.\n",
    "    \n",
    "    This function returns an array of binary ints from as a model's prediction on a dataset.\n",
    "    All float values below the the threshold are rounded down to 0, and those above,\n",
    "    rounded up to 1.\n",
    "\n",
    "    Parameters\n",
    "    ----------\n",
    "    model : keras.engine.sequential.Sequential\n",
    "        Keras sequential model.\n",
    "    data : numpy.ndarray\n",
    "        An array of features.\n",
    "    threshold : float\n",
    "        A value to set degree of confidence on predictions.\n",
    "    \n",
    "    Returns\n",
    "    -------\n",
    "    numpy.ndarray\n",
    "        An array of predictions.\n",
    "    '''\n",
    "    preds = model.predict(data)\n",
    "    #Set all values > threshold to 1, else 0\n",
    "    preds = np.where(preds > threshold, 1, 0) \n",
    "\n",
    "    return preds"
   ]
  },
  {
   "cell_type": "code",
   "execution_count": 7,
   "metadata": {},
   "outputs": [],
   "source": [
    "def make_submission(model, data, name, threshold):    \n",
    "    '''\n",
    "    Create anad save a csv file for predictions.\n",
    "    \n",
    "    This function makes predictions, creates a Pandsa dataframe of the predictions,\n",
    "    and save them to direcoty as a csv file. All predicted values above the threshold\n",
    "    will be rounded up to 1, and those below will be rounded down to 0.\n",
    "\n",
    "    Parameters\n",
    "    ----------\n",
    "    name : str\n",
    "        A name for the csv file.\n",
    "    threshold : float\n",
    "        A value for the degree of confidence. \n",
    "    \n",
    "    Returns\n",
    "    -------\n",
    "    None\n",
    "    '''\n",
    "\n",
    "    #Get a list of all images in the test file directory\n",
    "    filespath = os.path.join(os.getcwd(), 'dl-2022-medical', 'test_images')\n",
    "    #Create an empty list for the list indexes\n",
    "    id = []\n",
    "\n",
    "    #Add the filenames of all png files in the directory as indexes\n",
    "    for file in os.listdir(filespath):\n",
    "            if (file.endswith(\".png\")):\n",
    "                id.append(file)\n",
    "    \n",
    "    #Create a Pandas series of the indexes\n",
    "    ids = pd.Series(id, name = 'id')\n",
    "    #Mak3 and convert model predictions to binary\n",
    "    preds = test_preds(model, data, threshold)\n",
    "    #Create a Pandas dataframe of the predictions\n",
    "    df = pd.DataFrame(preds, columns=['label1', 'label2', 'label3'], index=ids)\n",
    "    #Save predictions as csv file\n",
    "    df.to_csv(os.path.join(os.getcwd(), 'Submissions', name), index=True)"
   ]
  },
  {
   "cell_type": "code",
   "execution_count": 8,
   "metadata": {},
   "outputs": [],
   "source": [
    "def info(file, text):\n",
    "    '''\n",
    "    Create and save a txt file from a multiline string.\n",
    "    \n",
    "    The function takes in a multiline string and creates a test file from it.\n",
    "    The string contains vital information about the model, especially its \n",
    "    architecture and parameters.\n",
    "\n",
    "    Parameters\n",
    "    ----------\n",
    "    file : str\n",
    "        A name to save as txt file.\n",
    "    text : str\n",
    "        A multiline string containing model info. \n",
    "    \n",
    "    Returns\n",
    "    -------\n",
    "    None\n",
    "    '''\n",
    "    \n",
    "    #Create an empty txt file\n",
    "    with open(os.path.join(os.getcwd(), 'Info', file +'.txt'), 'w') as f:\n",
    "        for line in text: #add every line from the string to the txt file\n",
    "            f.write(line)"
   ]
  },
  {
   "cell_type": "code",
   "execution_count": 9,
   "metadata": {},
   "outputs": [],
   "source": [
    "def make_report(model, features, labels, threshold=0.5):\n",
    "    '''\n",
    "    Create classification report for each class per label.\n",
    "    \n",
    "    The function prints put a classification report for predicted feature values.\n",
    "    It has threshold values to adjust values.\n",
    "\n",
    "    Parameters\n",
    "    ----------\n",
    "    model : keras.engine.sequential.Sequential\n",
    "        A sequential model.\n",
    "    features : numpy.ndarray\n",
    "        An array of features.\n",
    "    labels : numpy.ndarray\n",
    "        An array of features.\n",
    "    threshold : float, default 0.5\n",
    "        A value for the degree of confidence. \n",
    "    \n",
    "    Returns\n",
    "    -------\n",
    "    None\n",
    "    '''\n",
    "    pred = model.predict(features)\n",
    "    true = labels\n",
    "\n",
    "    true_1, true_2, true_3 = np.hsplit(true, 3)\n",
    "    pred_1, pred_2, pred_3 = np.hsplit(pred, 3)\n",
    "\n",
    "    pred_1 = np.where(pred_1 > threshold, 1, 0 )\n",
    "    pred_2 = np.where(pred_2 > threshold, 1, 0 )\n",
    "    pred_3 = np.where(pred_3 > threshold , 1, 0 )\n",
    "\n",
    "    print(classification_report(true_1, pred_1))\n",
    "    print(classification_report(true_2, pred_2))\n",
    "    print(classification_report(true_3, pred_3))"
   ]
  },
  {
   "cell_type": "code",
   "execution_count": 10,
   "metadata": {},
   "outputs": [],
   "source": [
    "def summarize_diagnostics(history):\n",
    "    '''\n",
    "    Make a graph of losses against AUC.\n",
    "    \n",
    "    Parameters\n",
    "    ----------\n",
    "    history : keras.callbacks.History\n",
    "        A history object containing model info\n",
    "\n",
    "    Returns\n",
    "    -------\n",
    "    None\n",
    "    '''\n",
    "    plt.subplot(211)\n",
    "    plt.title('Cross Entropy Loss')\n",
    "    plt.plot(history.history['loss'], color='blue', label='train')\n",
    "    plt.plot(history.history['val_loss'], color='orange', label='test')\n",
    "    plt.subplots_adjust(bottom=0.7, top=2)\n",
    "\t\n",
    "    plt.subplot(212)\n",
    "    plt.title('Classification AUC')\n",
    "    plt.plot(history.history['auc'], color='blue', label='train')\n",
    "    plt.plot(history.history['val_auc'], color='orange', label='test')\n",
    "    \n",
    "    plt.legend()\n",
    "\t# save plot to file\n",
    "    filename = sys.argv[0].split('/')[-1]\n",
    "    plt.savefig(filename + '_plot.png')\n",
    "\n",
    "    plt.show()"
   ]
  },
  {
   "cell_type": "markdown",
   "metadata": {},
   "source": [
    "## Loading Data"
   ]
  },
  {
   "cell_type": "code",
   "execution_count": 11,
   "metadata": {},
   "outputs": [],
   "source": [
    "train_image_paths = glob.glob(os.path.join(os.getcwd(), 'dl-2022-medical', 'train_images', '*.png'))\n",
    "val_image_paths = glob.glob(os.path.join(os.getcwd(), 'dl-2022-medical', 'val_images', '*.png'))\n",
    "test_image_paths = glob.glob(os.path.join(os.getcwd(), 'dl-2022-medical', 'test_images', '*.png'))\n",
    "\n",
    "train_label_paths = os.path.join(os.getcwd(), 'dl-2022-medical', 'train_labels.csv')\n",
    "val_label_paths = os.path.join(os.getcwd(), 'dl-2022-medical', 'val_labels.csv')"
   ]
  },
  {
   "cell_type": "code",
   "execution_count": 12,
   "metadata": {},
   "outputs": [],
   "source": [
    "# train_image_paths = glob.glob(os.path.join(os.getcwd(), 'new', '*.png'))\n",
    "# train_label_paths = \"C:\\\\Users\\\\Ahmad Wali\\\\Stuff\\\\Masters\\\\2nd Year\\\\1st Semester\\\\Deep Learning\\\\Project 1\\\\new_label.csv\""
   ]
  },
  {
   "cell_type": "code",
   "execution_count": 12,
   "metadata": {},
   "outputs": [
    {
     "name": "stdout",
     "output_type": "stream",
     "text": [
      "Found 12000 training images and 3000 augmented images\n",
      "Found 3000 validation images.\n",
      "Found 5000 test images.\n"
     ]
    }
   ],
   "source": [
    "X_train, y_train = load_data(train_image_paths, 'train',train_label_paths, scale='minmax')\n",
    "X_val, y_val = load_data(val_image_paths,'val', val_label_paths, scale='minmax')\n",
    "X_test = load_data(test_image_paths, 'test', scale='minmax')"
   ]
  },
  {
   "cell_type": "markdown",
   "metadata": {},
   "source": [
    "## Build Model"
   ]
  },
  {
   "cell_type": "code",
   "execution_count": 15,
   "metadata": {},
   "outputs": [
    {
     "name": "stdout",
     "output_type": "stream",
     "text": [
      "Epoch 1/15\n",
      "59/59 [==============================] - 18s 294ms/step - loss: 0.5758 - auc_2: 0.5449 - val_loss: 0.3744 - val_auc_2: 0.7753 - lr: 0.0010\n",
      "Epoch 2/15\n",
      "59/59 [==============================] - 15s 246ms/step - loss: 0.4194 - auc_2: 0.7528 - val_loss: 0.3371 - val_auc_2: 0.8626 - lr: 0.0010\n",
      "Epoch 3/15\n",
      "59/59 [==============================] - 15s 247ms/step - loss: 0.3714 - auc_2: 0.8233 - val_loss: 0.2804 - val_auc_2: 0.8914 - lr: 0.0010\n",
      "Epoch 4/15\n",
      "59/59 [==============================] - 15s 247ms/step - loss: 0.3513 - auc_2: 0.8417 - val_loss: 0.2682 - val_auc_2: 0.9037 - lr: 0.0010\n",
      "Epoch 5/15\n",
      "59/59 [==============================] - 15s 248ms/step - loss: 0.3382 - auc_2: 0.8543 - val_loss: 0.2785 - val_auc_2: 0.9016 - lr: 0.0010\n",
      "Epoch 6/15\n",
      "59/59 [==============================] - 15s 248ms/step - loss: 0.3249 - auc_2: 0.8665 - val_loss: 0.2652 - val_auc_2: 0.9090 - lr: 0.0010\n",
      "Epoch 7/15\n",
      "59/59 [==============================] - 15s 248ms/step - loss: 0.3204 - auc_2: 0.8691 - val_loss: 0.2605 - val_auc_2: 0.9091 - lr: 0.0010\n",
      "Epoch 8/15\n",
      "59/59 [==============================] - 15s 248ms/step - loss: 0.3145 - auc_2: 0.8755 - val_loss: 0.2683 - val_auc_2: 0.9100 - lr: 0.0010\n",
      "Epoch 9/15\n",
      "59/59 [==============================] - 15s 248ms/step - loss: 0.3062 - auc_2: 0.8825 - val_loss: 0.2727 - val_auc_2: 0.9051 - lr: 0.0010\n",
      "Epoch 10/15\n",
      "59/59 [==============================] - 15s 248ms/step - loss: 0.2986 - auc_2: 0.8877 - val_loss: 0.2605 - val_auc_2: 0.9099 - lr: 1.0000e-04\n",
      "Epoch 11/15\n",
      "59/59 [==============================] - 15s 248ms/step - loss: 0.2925 - auc_2: 0.8935 - val_loss: 0.2618 - val_auc_2: 0.9074 - lr: 1.0000e-04\n",
      "Epoch 12/15\n",
      "59/59 [==============================] - 15s 249ms/step - loss: 0.2904 - auc_2: 0.8947 - val_loss: 0.2614 - val_auc_2: 0.9087 - lr: 1.0000e-05\n"
     ]
    }
   ],
   "source": [
    "model = build_model_2()\n",
    "auc = AUC(curve='PR', multi_label=True, num_labels=3)\n",
    "es = EarlyStopping(monitor='val_loss', patience=5, restore_best_weights=False)\n",
    "\n",
    "lr = ReduceLROnPlateau(patience=2)\n",
    "model.compile(optimizer='adam', loss='binary_crossentropy', metrics=[auc])\n",
    "history = model.fit(X_train, y_train, validation_data=(X_val, y_val), batch_size=256, epochs=15, callbacks=[lr, es])"
   ]
  },
  {
   "cell_type": "code",
   "execution_count": null,
   "metadata": {},
   "outputs": [
    {
     "name": "stdout",
     "output_type": "stream",
     "text": [
      "94/94 [==============================] - 1s 10ms/step\n",
      "              precision    recall  f1-score   support\n",
      "\n",
      "           0       0.94      0.89      0.91      1553\n",
      "           1       0.89      0.94      0.91      1447\n",
      "\n",
      "    accuracy                           0.91      3000\n",
      "   macro avg       0.91      0.91      0.91      3000\n",
      "weighted avg       0.92      0.91      0.91      3000\n",
      "\n",
      "              precision    recall  f1-score   support\n",
      "\n",
      "           0       0.93      0.90      0.91      1847\n",
      "           1       0.84      0.89      0.87      1153\n",
      "\n",
      "    accuracy                           0.90      3000\n",
      "   macro avg       0.89      0.89      0.89      3000\n",
      "weighted avg       0.90      0.90      0.90      3000\n",
      "\n",
      "              precision    recall  f1-score   support\n",
      "\n",
      "           0       0.96      0.92      0.94      2316\n",
      "           1       0.76      0.87      0.81       684\n",
      "\n",
      "    accuracy                           0.91      3000\n",
      "   macro avg       0.86      0.90      0.88      3000\n",
      "weighted avg       0.92      0.91      0.91      3000\n",
      "\n"
     ]
    }
   ],
   "source": [
    "make_report(model, X_val, y_val)"
   ]
  },
  {
   "cell_type": "code",
   "execution_count": null,
   "metadata": {},
   "outputs": [
    {
     "data": {
      "image/png": "[encoded data removed]",
      "text/plain": [
       "<Figure size 640x480 with 2 Axes>"
      ]
     },
     "metadata": {},
     "output_type": "display_data"
    }
   ],
   "source": [
    "summarize_diagnostics(history)"
   ]
  },
  {
   "cell_type": "code",
   "execution_count": null,
   "metadata": {},
   "outputs": [
    {
     "name": "stdout",
     "output_type": "stream",
     "text": [
      "157/157 [==============================] - 1s 9ms/step\n"
     ]
    }
   ],
   "source": [
    "make_submission('25-12-22.csv', 0.6)"
   ]
  },
  {
   "cell_type": "code",
   "execution_count": 18,
   "metadata": {},
   "outputs": [],
   "source": [
    "text = '''\n",
    "Aug_size = 3000\n",
    "scale = minmax\n",
    "threshold = 0.6\n",
    "\n",
    "\n",
    "initializer = 'he_uniform'\n",
    "def build_model_2():\n",
    "    Create a model as a list of layers.\n",
    "    \n",
    "    This function returns a sequential VGG-type model as a list of stacked layers.\n",
    "\n",
    "    Returns\n",
    "    -------\n",
    "    keras.engine.sequential.Sequential\n",
    "        A sequential model.\n",
    "    model =Sequential()\n",
    "\n",
    "    model.add(Conv2D(64/2, kernel_size=(5,1), activation='relu', padding='same', input_shape=(64, 64, 1), kernel_initializer=initializer))\n",
    "    model.add(Conv2D(64/2, kernel_size=(1,5), activation='relu', padding='same', kernel_initializer=initializer))\n",
    "    model.add(MaxPooling2D((3,3), strides=2, padding='same')) \n",
    "    model.add(Dropout(rate=0.25))\n",
    "\n",
    "    model.add(Conv2D(128/2, kernel_size=(5,1), activation='relu', padding='same', kernel_initializer=initializer))\n",
    "    model.add(Conv2D(128/2, kernel_size=(1,5), activation='relu', padding='same', kernel_initializer=initializer))\n",
    "    model.add(MaxPooling2D((3,3), strides=2, padding='same')) \n",
    "    model.add(Dropout(rate=0.25))\n",
    "\n",
    "    model.add(Conv2D(256/2, kernel_size=(5,1), activation='relu', padding='same', kernel_initializer=initializer))\n",
    "    model.add(Conv2D(256/2, kernel_size=(1,5), activation='relu', padding='same', kernel_initializer=initializer))\n",
    "    model.add(MaxPooling2D((3,3), strides=2, padding='same')) \n",
    "    model.add(Dropout(rate=0.25))\n",
    "\n",
    "    model.add(Conv2D(512/2, kernel_size=(5,1), activation='relu', padding='same', kernel_initializer=initializer))\n",
    "    model.add(Conv2D(512/2, kernel_size=(1,5), activation='relu', padding='same', kernel_initializer=initializer))\n",
    "    model.add(MaxPooling2D((3,3), strides=2, padding='same')) \n",
    "    model.add(Dropout(rate=0.25))\n",
    "\n",
    "    model.add(Flatten())    \n",
    "    model.add(Dense(1024/2, activation='relu'))   \n",
    "    model.add(Dropout(rate=0.5))    \n",
    "    model.add(Dense(3, activation='sigmoid'))\n",
    "\n",
    "    return model\n",
    "    \n",
    "    '''"
   ]
  },
  {
   "cell_type": "code",
   "execution_count": 19,
   "metadata": {},
   "outputs": [],
   "source": [
    "info('25-12-22', text)"
   ]
  },
  {
   "cell_type": "markdown",
   "metadata": {},
   "source": [
    "# Rough Stuff"
   ]
  },
  {
   "cell_type": "code",
   "execution_count": 2,
   "metadata": {},
   "outputs": [],
   "source": [
    "import pandas as pd\n",
    "df = pd.read_csv(os.path.join(os.getcwd(), 'dl-2022-medical', 'train_labels.csv'))\n",
    "mask = (df[ 'label3'] == 0) & (df[ 'label2'] == 0) & (df[ 'label1'] == 0)\n",
    "mask_1 = (df[ 'label2'] == 1) & (df[ 'label3'] == 1)\n",
    "mask_12= (df[ 'label1'] == 0)"
   ]
  },
  {
   "cell_type": "code",
   "execution_count": 8,
   "metadata": {},
   "outputs": [
    {
     "data": {
      "text/plain": [
       "0    0.536333\n",
       "1    0.463667\n",
       "Name: label1, dtype: float64"
      ]
     },
     "execution_count": 8,
     "metadata": {},
     "output_type": "execute_result"
    }
   ],
   "source": [
    "df['label1'].value_counts(normalize=True)"
   ]
  },
  {
   "cell_type": "code",
   "execution_count": 7,
   "metadata": {},
   "outputs": [
    {
     "data": {
      "text/plain": [
       "0    0.638833\n",
       "1    0.361167\n",
       "Name: label2, dtype: float64"
      ]
     },
     "execution_count": 7,
     "metadata": {},
     "output_type": "execute_result"
    }
   ],
   "source": [
    "df['label2'].value_counts(normalize=True)"
   ]
  },
  {
   "cell_type": "code",
   "execution_count": 59,
   "metadata": {},
   "outputs": [
    {
     "data": {
      "text/plain": [
       "2965"
      ]
     },
     "execution_count": 59,
     "metadata": {},
     "output_type": "execute_result"
    }
   ],
   "source": [
    "len(set(df[mask].index).intersection(set(index)))"
   ]
  },
  {
   "cell_type": "code",
   "execution_count": 9,
   "metadata": {},
   "outputs": [
    {
     "data": {
      "text/plain": [
       "0    0.773333\n",
       "1    0.226667\n",
       "Name: label3, dtype: float64"
      ]
     },
     "execution_count": 9,
     "metadata": {},
     "output_type": "execute_result"
    }
   ],
   "source": [
    "df['label3'].value_counts(normalize=True)"
   ]
  },
  {
   "cell_type": "code",
   "execution_count": 60,
   "metadata": {},
   "outputs": [],
   "source": [
    "rem = sorted((set(df[mask].index).intersection(set(index))), reverse=True)"
   ]
  },
  {
   "cell_type": "code",
   "execution_count": null,
   "metadata": {},
   "outputs": [],
   "source": [
    "#images = []\n",
    "counter = 0\n",
    "index = []\n",
    "for path in train_image_paths:\n",
    "    image = cv2.imread(path, 0)\n",
    "    if image.mean() == 0:\n",
    "        print(counter)\n",
    "        index.append(counter)\n",
    "    counter += 1  "
   ]
  }
 ],
 "metadata": {
  "kernelspec": {
   "display_name": "Python 3.9.13 ('Deep_Learning')",
   "language": "python",
   "name": "python3"
  },
  "language_info": {
   "codemirror_mode": {
    "name": "ipython",
    "version": 3
   },
   "file_extension": ".py",
   "mimetype": "text/x-python",
   "name": "python",
   "nbconvert_exporter": "python",
   "pygments_lexer": "ipython3",
   "version": "3.9.13"
  },
  "orig_nbformat": 4,
  "vscode": {
   "interpreter": {
    "hash": "4be34ee29682d8153bb33aa0ed218e251bc723c8d0fb2453deb0a4cf51f72620"
   }
  }
 },
 "nbformat": 4,
 "nbformat_minor": 2
}
